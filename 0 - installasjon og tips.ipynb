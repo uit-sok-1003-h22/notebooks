{
 "cells": [
  {
   "cell_type": "markdown",
   "id": "541033d4-f85d-40b0-a42d-ecbe31a20105",
   "metadata": {},
   "source": [
    "##### <span style=\"color:lightgrey\">\\<Forrige </span>   |     [Neste \\>](1%20-%20introduksjon.ipynb)"
   ]
  },
  {
   "cell_type": "markdown",
   "id": "074ebde0-2d56-4157-83a4-9d57f74a6fa8",
   "metadata": {
    "jp-MarkdownHeadingCollapsed": true,
    "tags": []
   },
   "source": [
    "<span style=\"color:#9bb1d4;font-size:30px;font-weight:900\"> 0 - installasjon og tips </span>  "
   ]
  },
  {
   "cell_type": "markdown",
   "id": "9a9a336d-1132-417a-a83e-5fb8df1e78b2",
   "metadata": {},
   "source": [
    "# Installere Python, git og Jupyter på Windows"
   ]
  },
  {
   "cell_type": "markdown",
   "id": "a771bb6c-f173-4fcc-8615-d8899847fb5a",
   "metadata": {
    "jp-MarkdownHeadingCollapsed": true,
    "tags": []
   },
   "source": [
    "\n",
    "\n",
    "<a href=\"https://www.python.org/downloads/\"><img align=\"right\" src=\"img/python-logo2.png\" style=\"padding:20px;\"></a>\n",
    "\n",
    "## 1. Installere python\n",
    "\n",
    "På noen systemer er det tilstrekkelig at du skriver `python` kommandovinduet. Om ikke det fungerer, gjør slik:\n",
    "\n",
    "1. Gå til [installasjonssiden](https://www.python.org/downloads/) og last ned\n",
    "4. Installer for alle brukere (krever elevering/admin login) og **hak av for å legge til \"PATH\"**. \n",
    "    \n",
    "(Jeg har endret litt på \"oppskriften\" etter at videoen ble spilt inn)\n",
    "\n",
    "## 2. Installere git\n",
    "\n",
    "1. Gå til [installasjonsiden for git](https://git-scm.com/downloads){:target=\"blank\"}\n",
    "4. Last ned for windows og installer for alle brukere (krever elevering/admin login)\n",
    "  \n",
    "## 3. Installere Jupyter lab\n",
    "\n",
    "1. åpne kommandovinduet: Skriv \"cmd\" i søkefeltet på maskinen, HØYREKLIKK og start \"Command Promt\"/\"Ledetekst\" SOM ADMIN. \n",
    "2. Skriv inn `pip install jupyterlab`\n",
    "\n",
    "## 4. Hente kursmateriell fra github\n",
    "\n",
    "For å hente filene til Jupyter  åpner du kommanovinduet på nytt, men denne gangen UTEN Å HØYREKLIKKET, siden du nå skal arbeidet på ditt hjemmeområde. Videre gjør du slik:\n",
    "\n",
    "2. Lag en ny mappe på ditt hjemmeområde ved å skrive inn i terminalvinduet\n",
    "\n",
    "```mkdir sok-1003```\n",
    "\n",
    "3. Gå så inn i den mappen du har laget ved å skrive \n",
    "\n",
    "```cd sok-1003```\n",
    "        \n",
    "4. Last ned kursmateriellet ved å kopiere inn følgende kommando i kommandovinduet: \n",
    "\n",
    "```git clone https://github.com/uit-sok-1003-2022/notebooks/```\n",
    "        \n",
    "5. Filene på github kommer til å endres, og da må du oppdatere dem. Det kan derfor være lurt å ha en \n",
    "kopi av notebooks-folderen hvor du kan gjøre egne endringer som ikke overskrives når du henter oppdaterte notater.For å lage en slik kopi skriver du:\n",
    "        \n",
    "```xcopy notebooks notebooks_edit```\n",
    "        \n",
    "6. For å åpne filene i \"notebooks_edit\"-mappen i jupyter lab skriver du\n",
    "```\n",
    "cd notebooks_edit\n",
    "jupyter lab\n",
    "```\n"
   ]
  },
  {
   "cell_type": "markdown",
   "id": "902f628e-a081-403b-a189-dca5a219eb68",
   "metadata": {},
   "source": [
    "# Installere Python, git og Jupyter på Mac"
   ]
  },
  {
   "cell_type": "markdown",
   "id": "26887413-0e58-4634-b66c-d1b63a58e241",
   "metadata": {},
   "source": [
    "<a href=\"https://www.python.org/downloads/\"><img align=\"right\" src=\"img/python-logo2.png\" style=\"padding:20px;\"></a>\n",
    "\n",
    "## 1. Installere python\n",
    "\n",
    "Gå til [https://www.python.org/downloads/](https://www.python.org/downloads/)\n",
    " \n",
    "## 2. Installere git\n",
    "\n",
    "Åpne Terminal-appen og skriv `git`. Du blir spurt om du vil installere utviklerverktøy. Takk ja, og installer. \n",
    "\n",
    "## 3. Installere Jupyter lab\n",
    "\n",
    "1. åpne kommandovinduet: Åpne finder og skriv \"terminal\" i søkefeltet og åne terminal. \n",
    "2. Skriv inn \"sodu -H pip3 install jupyterlab\" (\"sodu -H\" er for å installere det som admin, slik at du kan åpne jupyter med kommandoen \"jupyter\")\n",
    "3. Skriv inn passord\n",
    "\n",
    "## 4. Hente kursmateriell fra github\n",
    "\n",
    "For å hente filene til Jupyter gjør du slik:\n",
    "\n",
    "2. Lag en ny mappe på ditt hjemmeområde ved å skrive inn i terminalvinduet\n",
    "\n",
    "```mkdir sok-1003```\n",
    "\n",
    "3. Gå så inn i den mappen du har laget ved å skrive \n",
    "\n",
    "```cd sok-1003```\n",
    "        \n",
    "4. Last ned kursmateriellet ved å kopiere inn følgende kommando i kommandovinduet: \n",
    "\n",
    "```git clone https://github.com/uit-sok-1003-h22/notebooks/```\n",
    "        \n",
    "5. Filene på github kommer til å endres, og da må du oppdatere dem. Det kan derfor være lurt å ha en \n",
    "kopi av notebooks-folderen hvor du kan gjøre egne endringer som ikke overskrives når du henter oppdaterte notater.For å lage en slik kopi skriver du:\n",
    "        \n",
    "```cp -r notebooks notebooks_edit```\n",
    "        \n",
    "6. For å åpne filene i \"notebooks_edit\"-mappen i jupyter lab skriver du\n",
    "```\n",
    "cd notebooks_edit\n",
    "jupyter lab\n",
    "```\n"
   ]
  },
  {
   "cell_type": "markdown",
   "id": "59c95392-828a-4018-9279-031671ff5ad3",
   "metadata": {},
   "source": [
    "# Bruk av Terminal-vinduet"
   ]
  },
  {
   "cell_type": "markdown",
   "id": "4c931998-4c56-4d77-acfc-104b5b9af162",
   "metadata": {},
   "source": [
    "<img align=\"left\" src=\"img/new.png\" style=\"padding:20px;\" width=300>Ved hjelp av Terminal kan vi gi instruksjoner som ikke er tilgjengelig i JupyterLabs grafiske grensesnitt. Du åpner Terminal ved å trykke på + tegnet oppe til venstre (bilde til venstre)\n",
    "\n",
    "\n",
    "<img align=\"right\" src=\"img/terminal-open.png\" style=\"padding:20px;\">Du velger så \"Terminal\" i \"launcher\"-fanen som dukker opp til høyre (bilde til høyre).\n",
    "    \n"
   ]
  },
  {
   "cell_type": "markdown",
   "id": "7c2deb27-8e46-4c01-bc46-42ca28e98f18",
   "metadata": {},
   "source": [
    " Du får nå opp en svart skjerm med følgende tekst oppe til venstre\n",
    " \n",
    "         [<brukernavn>@ad.uit.no@jupyt03 ~]$ \n",
    "         \n",
    "... der `<brukernavn>` er ditt brukernavn. Tegnet `~` viser at du er i \"rot-mappen\". Det vil si den høyeste mappen i mappehierarkiet på ditt område. "
   ]
  },
  {
   "cell_type": "markdown",
   "id": "f6f4b6f4-fcd0-4070-b733-7dcbaa7ed97a",
   "metadata": {},
   "source": [
    "## Lage en ny undermappe:"
   ]
  },
  {
   "cell_type": "markdown",
   "id": "4ffa72f1-59a8-43f2-905f-56983d8afb1e",
   "metadata": {},
   "source": [
    "        mkdir minmappe"
   ]
  },
  {
   "cell_type": "markdown",
   "id": "69fcfdf9-8c5a-4b38-814d-86786a544cff",
   "metadata": {},
   "source": [
    "Der `minmappe` er navnet på mappen du lager"
   ]
  },
  {
   "cell_type": "markdown",
   "id": "8f9e2d73-26eb-4963-843b-45dd2c541928",
   "metadata": {},
   "source": [
    "## Gå inn i undermappe:"
   ]
  },
  {
   "cell_type": "markdown",
   "id": "bd79d7a0-f92c-4975-ad19-4c65818be7b5",
   "metadata": {},
   "source": [
    "        cd minmappe"
   ]
  },
  {
   "cell_type": "markdown",
   "id": "a5257608-c01d-46b8-b5e3-15dde4894cd4",
   "metadata": {},
   "source": [
    "Du vil nå se at teksten foran innsetningspunktet skifter til"
   ]
  },
  {
   "cell_type": "markdown",
   "id": "9a3d4daf-c71b-4fb6-b2ca-8b9a456df4b9",
   "metadata": {},
   "source": [
    "         [<brukernavn>@ad.uit.no@jupyt03 minmappe]$ "
   ]
  },
  {
   "cell_type": "markdown",
   "id": "8fa303b3-b979-4a1e-9ad1-f956bf4d2e29",
   "metadata": {},
   "source": [
    "`~` har altså skiftet til `minmappe` fordi du nå er i mappen \"minmappe\"."
   ]
  },
  {
   "cell_type": "markdown",
   "id": "e55fe8ad-6ba8-43b2-8a92-30a351c5b2e1",
   "metadata": {},
   "source": [
    "## Gå opp fra undermappe"
   ]
  },
  {
   "cell_type": "markdown",
   "id": "07599cc4-8f47-40e0-b8b4-a7f68d1a89db",
   "metadata": {},
   "source": [
    "Du kan gå opp fra undermappen ved å skrive"
   ]
  },
  {
   "cell_type": "markdown",
   "id": "e14d346a-b9aa-4bee-a60b-4975bc998e9c",
   "metadata": {},
   "source": [
    "        cd .."
   ]
  },
  {
   "cell_type": "markdown",
   "id": "27becc74-8e23-4b9e-834a-3dc21b07ba74",
   "metadata": {},
   "source": [
    "Teksten foran innsetningspunktet skifter da tilbake til symbolet for rotmappen: \n",
    "\n",
    "        [<brukernavn>@ad.uit.no@jupyt03 ~]$"
   ]
  },
  {
   "cell_type": "markdown",
   "id": "feb7a9eb-b931-4681-a555-8f94cf994bc2",
   "metadata": {},
   "source": [
    "## Se innhold"
   ]
  },
  {
   "cell_type": "markdown",
   "id": "df4358ee-6f91-4400-9a86-6018a0252a07",
   "metadata": {},
   "source": [
    "Du kan se innholdet av mappen du er i, ved å skrive"
   ]
  },
  {
   "cell_type": "markdown",
   "id": "6be98f6d-ee2f-4fa3-b6ca-14d1703ea4a2",
   "metadata": {},
   "source": [
    "        dir"
   ]
  },
  {
   "cell_type": "markdown",
   "id": "2e0cd6ba-ec6f-4f86-aedd-658081ee4014",
   "metadata": {},
   "source": [
    "## Slette undermappe"
   ]
  },
  {
   "cell_type": "markdown",
   "id": "7fce4d6b-752b-4cd8-80b4-2eb7a335663f",
   "metadata": {},
   "source": [
    "For å slette undermappen minmappe skriver du"
   ]
  },
  {
   "cell_type": "markdown",
   "id": "e1412e4d-df76-46d8-ac36-6b81f14652e5",
   "metadata": {},
   "source": [
    "        rmdir minmappe"
   ]
  },
  {
   "cell_type": "markdown",
   "id": "e2a70b9b-6c85-4c56-91fe-e28a6234bda5",
   "metadata": {},
   "source": [
    "Bruk aldri denne uten at du er sikker på hva du gjør. Mappen kan ikke gjenopprettes etter at den er slettet."
   ]
  },
  {
   "cell_type": "markdown",
   "id": "9107ea6e-0dbc-4ffc-8b57-81ec690c2e6d",
   "metadata": {},
   "source": [
    "# Fjerne en mappe og alt dets innhold (FARLIG!)\n",
    "\n",
    "Dersom en mappe har innhold som er vanskelig å fjerne, slik som et git-repositorie, kan det være du må da kjøre en kommando i Terminal for å fjerne mappen. Du må da kjøre en kommando i Terminal for å fjerne mappen. For å fjerne en mappe og alt innholdet, navigerer du til mappen over (se 3.), slik at om du kjører `dir` så ser du navnet på mappen (samme med eventuelt andre filer og mapper). Du kjører så\n",
    "```\n",
    "rm -r <navn på mappe du vil ha fjernet>\n",
    "```\n",
    "Bytt ut ´<navn på mappe du vil ha fjernet>´ med mappen du vil slette. \n",
    "\n",
    "MERK at dette sletter mappen FOR EVIG OG ALLTID! Den kan ikke gjenoprettes, så VÆR HELT SIKKER før du gjør dette. Du må være HELT sikker på hvor du er i mappestrukturen i terminal, slik at du ikke sletter noe uforvarende. \n",
    "\n",
    "Når du har kjørt kommandoen, vil du få gjentatte spørsmål om du vil slette hver enkelt fil. Trykk `y` og Enter på hvert spørsmål. "
   ]
  },
  {
   "cell_type": "markdown",
   "id": "1a46f311-e10f-483a-8002-bfdea991bd2e",
   "metadata": {},
   "source": [
    "# Git"
   ]
  },
  {
   "cell_type": "markdown",
   "id": "d81e2c6d-3138-4ac6-8549-15f44100fd76",
   "metadata": {
    "tags": []
   },
   "source": [
    "## Klone dette repositoriet: \n",
    "```\n",
    "git clone https://github.com/uit-sok-1003-h22/notebooks/\n",
    "```    \n",
    " "
   ]
  },
  {
   "cell_type": "markdown",
   "id": "ef14482e-3fe3-4600-a63f-0c64978ff2f7",
   "metadata": {},
   "source": [
    "## Hente siste versjon (pull): \n",
    "```     \n",
    "git pull\n",
    "```\n",
    "1. Om filer er endret, og du ønsker å overskrive endringene:\n",
    "```\n",
    "git reset --hard\n",
    "git pull\n",
    "```\n",
    "\n",
    "2. Om filer er endret, og du ønsker å overskrive endringene, men også ta vare på endringer.\n",
    "```\n",
    "git stash\n",
    "```  \n",
    " "
   ]
  },
  {
   "cell_type": "markdown",
   "id": "08ed7907-0df2-4873-8fa6-786e38e3f299",
   "metadata": {
    "tags": []
   },
   "source": [
    "## Lage git-repositorie:\n",
    "[Se her for en forklaring på hvordan du skal levere arbeidskrav på github](https://uit-sok-1003-h22.github.io/github.html)\n",
    "\n",
    "1. Lag en githubkonto (du trenger ikke bruke din uit-mail, det er valgfritt)\n",
    "2. Logg på `jupyter.uit.no`, og åpne ny Terminal (+), og naviger dit du vil ha repositoriet på jupyter med `cd <mappenavn>`.\n",
    "3. Konfigurer git med e-posten til kontoen og ditt brukernavn (bytt ut klammeparentesene med e-posten og brukernavnet til githubkontoen):\n",
    "```\n",
    "git config --global user.email \"<e-post>\"\n",
    "git config --global user.name \"<brukernavn>\"\n",
    "```\n",
    "4. Gå til **Repositories**, trykk **New**, gi repositoriet et navn og velg **Private** eller **Public**. \n",
    "5. Hold denne fanen åpen, for du skal bruke html-adressen til denne siden.\n",
    "6. Sørg for at du har et token. Gå eventuelt til https://github.com/settings/tokens/new for å generere nytt token. *Hold fanen åpen for å ha tokenet tilgjengelig.*\n",
    "7. kjør `git clone https://<token>@github.com/<sti>` der \\<token\\> er tokenet er det du fikk i 6. og \\<sti\\> er det som kommer etter **github.com/**  i html-adressen i 5.\n",
    "\n",
    " Du kan nå redigere repositoriet ditt\n",
    " \n",
    " "
   ]
  },
  {
   "cell_type": "markdown",
   "id": "b9dad027-4ea5-4efa-ad0b-70b5973b356c",
   "metadata": {},
   "source": [
    "## Dytte repositoriet til github:\n",
    "1. Naviger til repositoriemappen i Terminal (se avsnitt 1.)\n",
    "2. Kjør i Terminal:\n",
    "```\n",
    "git add .\n",
    "git commit -m \"New repository\"\n",
    "git push \n",
    "```\n",
    "\n",
    "Dersom du får en rettighetsfeil kan du forsøke å legge inn, etter `git push`, nettadressen som beskrevet over. \n",
    "      \n",
    "      \n",
    " \n",
    " "
   ]
  },
  {
   "cell_type": "markdown",
   "id": "bbc6006c-d0cb-4755-a402-48bdb72fdb37",
   "metadata": {},
   "source": [
    "## Dersom innloggingen ikke fungerer\n",
    "En vanlig feil er at innloggingstedaljene som er lagret på maskinen din er utdaterte og feil. Når du bruker git vil ofte innloggingsdetaljene lagres på maskinen. Du kan løse problemet ved å slette detaljene \n",
    "* på Mac: Finn appen \"Keychain Access\", finn oppføringen for github, og slett den\n",
    "* På Windows: Trykk på vindu-knappen, søk og åpne \"Credential Manager\", finn oppføringen for github og slett den\n",
    "\n",
    "Om du må skrive inn passord hver gang du pusher til github, så kan du åpne filen som heter \"config\" under mappen \".git\" i repositoriet lokalt. Du kan åpne den med \"notepad\" (eller installer [Notepad++](https://notepad-plus-plus.org/downloads/)). Her kan du sette inn tokenet etterfulgt av \"@\" før \"github.com\" i nettadressen. Altså, om tokenet er \"abddefg\", brukernavnet er \"bruker\" og repositoriet heter \"mitt_repo\", skal adressen i config-filen se slik ut: \"https://abddefg@github.com/bruker/mitt_repo\"\n",
    "\n",
    "Du må muligens endre på visningsalternativene i \"Windows File Explorer\" til å vise skjulte filer og mapper, for å kunne se \"config\"-filen."
   ]
  },
  {
   "cell_type": "markdown",
   "id": "98b1e7bf-37ff-4974-ac92-3a599ecacab9",
   "metadata": {},
   "source": [
    "# Jupyter"
   ]
  },
  {
   "cell_type": "markdown",
   "id": "c14c76b1-c21b-4423-a9bf-3f1f6243dc29",
   "metadata": {
    "jp-MarkdownHeadingCollapsed": true,
    "tags": []
   },
   "source": [
    "## Starte Jupyter i bestemt mappe ('D:/myfiles' i dette tilfellet): \n",
    "```\n",
    "jupyter notebook --notebook-dir=D:/myfiles\n",
    "```        \n",
    " "
   ]
  },
  {
   "cell_type": "markdown",
   "id": "192e34b4-3df7-4c8b-9bbd-a2b19f8c3107",
   "metadata": {},
   "source": [
    "## Installere stavekontroll for i lokal Jupyter notebook:\n",
    "```\n",
    "pip install jupyter_contrib_nbextensions\n",
    "jupyter contrib nbextension install --user\n",
    "jupyter nbextension enable spellchecker/main\n",
    "```\n",
    " \n",
    "For å installere norsk stavekontroll:\n",
    "1. gå til https://jupyter-contrib-nbextensions.readthedocs.io/en/latest/nbextensions/spellchecker/README.html\n",
    "2. kjør\n",
    " \n",
    "```\n",
    "from jupyter_core.paths import jupyter_data_dir\n",
    "jupyter_data_dir()\n",
    "```\n",
    " \n",
    "Resultatet viser stien nenvnt i lenken over. \n",
    "3. Lag en mappe `dictionaries` under `spellchecker` i ovvenenvnte sti.\n",
    "4. Kopier [nb_NO.aff](res/nb_NO.aff) og [nb_NO.dic](res/nb_NO.dic) fra `res` mappen i dette repositoriet til mappen du nettopp laget.\n",
    "5. Kopier koden fra nettsiden over til en notebook, bytt ut de_DE med nb_NO, og kjør det.\n",
    "        "
   ]
  },
  {
   "cell_type": "markdown",
   "id": "26ddfb76-b804-4247-bfd1-f4cdcca24d08",
   "metadata": {
    "tags": []
   },
   "source": [
    "# Installere geopandas på windows\n",
    "\n",
    "Geopandas er ikke helt rett frem å installere på windows. Har du en linux eller Mac skal det bare være å kjøre henholdsvis `pip install geopandas` eller `pip3 install geopandas`. Du kan kjøre samme kommando på windows, men pakken vil sannsynligvis ikke fungere. Enda verre er det at dersom du gjør det, må du kanskje gå tilbake etterpå og avinstallere såkalte \"dependencies\", så det beste er å følge følgende oppskrift, uten å forsøke `pip install` først. \n",
    "\n",
    "\n",
    "1) Gå til [https://www.lfd.uci.edu/~gohlke/pythonlibs/](https://www.lfd.uci.edu/~gohlke/pythonlibs) og last ned følgende pakker (søk etter dem med ctrl+F, og skriv inn navnene etter tur):\n",
    "\n",
    "* GDAL, Fiona, pyproj, rtree og shapely\n",
    "\n",
    "2) Last alle pakken ned til din \"Downloads\"-mappe\n",
    "* Hver pakke har en rekke ulike versjoner. Sørg for at følgende stemmer:\n",
    "    * velg et versjonsnummer som stemmer med pythonversjonen du bruker. \n",
    "    * velg en pakke med \"cp\" foran versjonsnummer\n",
    "    * velg riktig antall bit for din maksin, enten 32 eller 64. Stort sett alle maskiner har 64 bit i dag. \n",
    "    * For eksempel har du python 3.8 og en 64bit maskin, velger du for GDAL filen **\"GDAL‑3.4.1‑cp38‑cp38‑win_amd64.whl\"**\n",
    "    \n",
    "    \n",
    "3) installer pakkene i rekkefølgen GDAL, Fiona, pyproj, rtree og shapely\n",
    "* Åpne kommandovinduet med adminrettigheter og naviger med `cd` til du er i \"Dwnloads\"-mappen\n",
    "* \"Downloads\"-mappen ligger normalt på **C:\\Users\\<brukernavn>\\Downloads**\n",
    "* skriv inn `pip install \"<navn på pakke>\"`\n",
    "* for å installere GDAL for python 3.8 og 64 bit skriver du for eksempel: `pip install \"GDAL‑3.4.1‑cp38‑cp38‑win_amd64.whl\"`\n",
    "\n",
    "4) kjør `pip install geopandas`"
   ]
  },
  {
   "cell_type": "markdown",
   "id": "e1030201-551b-47e7-9d84-e11c2816e19c",
   "metadata": {},
   "source": [
    "##### <span style=\"color:lightgrey\">\\<Forrige </span>   |     [Neste \\>](1%20-%20introduksjon.ipynb)"
   ]
  }
 ],
 "metadata": {
  "kernelspec": {
   "display_name": "Python 3 (ipykernel)",
   "language": "python",
   "name": "python3"
  },
  "language_info": {
   "codemirror_mode": {
    "name": "ipython",
    "version": 3
   },
   "file_extension": ".py",
   "mimetype": "text/x-python",
   "name": "python",
   "nbconvert_exporter": "python",
   "pygments_lexer": "ipython3",
   "version": "3.8.10"
  }
 },
 "nbformat": 4,
 "nbformat_minor": 5
}
